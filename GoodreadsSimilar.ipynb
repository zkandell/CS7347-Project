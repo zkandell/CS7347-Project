{
 "cells": [
  {
   "cell_type": "markdown",
   "metadata": {},
   "source": [
    "This uses heuristics to take the list of books from Goodreads Genre Processing and find a similar book, and a dissimilar book, to help train similarity"
   ]
  },
  {
   "cell_type": "code",
   "execution_count": 129,
   "metadata": {},
   "outputs": [],
   "source": [
    "import pandas as pd\n",
    "import numpy as np"
   ]
  },
  {
   "cell_type": "code",
   "execution_count": 130,
   "metadata": {},
   "outputs": [
    {
     "name": "stdout",
     "output_type": "stream",
     "text": [
      "                                                Book  \\\n",
      "0                              To Kill a Mockingbird   \n",
      "1  Harry Potter and the Philosopher’s Stone (Harr...   \n",
      "2                                Pride and Prejudice   \n",
      "3                                  The Little Prince   \n",
      "4                                               1984   \n",
      "\n",
      "                                         Description  \\\n",
      "0  The unforgettable novel of a childhood in a sl...   \n",
      "1  Harry Potter thinks he is an ordinary boy - un...   \n",
      "2  Since its immediate success in 1813, Pride and...   \n",
      "3  A pilot stranded in the desert awakes one morn...   \n",
      "4  The new novel by George Orwell is the major wo...   \n",
      "\n",
      "                     Author  Fantasy  Adult  Romance  Young Adult  Historical  \\\n",
      "0                Harper Lee        0      1        0            1           1   \n",
      "1              J.K. Rowling        1      1        0            1           0   \n",
      "2               Jane Austen        0      0        1            0           1   \n",
      "3  Antoine de Saint-Exupéry        1      1        0            1           0   \n",
      "4             George Orwell        0      0        0            0           0   \n",
      "\n",
      "   Historical Fiction  Mystery  ...  Suspense  Horror  Paranormal  Magic  \\\n",
      "0                   1        0  ...         0       0           0      0   \n",
      "1                   0        0  ...         0       0           0      1   \n",
      "2                   1        0  ...         0       0           0      0   \n",
      "3                   0        0  ...         0       0           0      0   \n",
      "4                   0        0  ...         0       0           0      0   \n",
      "\n",
      "   Science Fiction Fantasy  Humor  Middle Grade  Literary Fiction  Drama  \\\n",
      "0                        0      0             0                 0      0   \n",
      "1                        0      0             1                 0      0   \n",
      "2                        0      0             0                 0      0   \n",
      "3                        0      0             0                 0      0   \n",
      "4                        0      0             0                 0      0   \n",
      "\n",
      "   American  \n",
      "0         0  \n",
      "1         0  \n",
      "2         0  \n",
      "3         0  \n",
      "4         0  \n",
      "\n",
      "[5 rows x 28 columns]\n"
     ]
    }
   ],
   "source": [
    "# Import the data\n",
    "rawdatadf = pd.read_csv('Datasets\\goodreads_data_onehot_genres.csv')\n",
    "\n",
    "# Print the first few rows of the dataframe\n",
    "print(rawdatadf.head())"
   ]
  },
  {
   "cell_type": "code",
   "execution_count": 131,
   "metadata": {},
   "outputs": [
    {
     "name": "stdout",
     "output_type": "stream",
     "text": [
      "['Stephen King', 'William Shakespeare', 'Terry Pratchett', 'Agatha Christie', 'Rick Riordan', 'John Grisham', 'Chuck Palahniuk', 'Isaac Asimov', 'Lee Child', 'James Rollins', 'Roald Dahl', 'James Patterson', 'David Baldacci', 'Cassandra Clare', 'Richelle Mead', 'Julie Mannino', 'Lemony Snicket', 'Robert Jordan', 'Sarah J. Maas', 'Edgar Allan Poe', 'Lucian Bane', 'Nicholas Sparks', 'Tom Clancy', 'Kirsten Fullmer', 'Michael Crichton', 'Dr. Seuss', 'Irvine Welsh', 'Charles Bukowski', 'Haruki Murakami', 'Neil Gaiman', \"Louis L'Amour\", 'Terry Brooks', 'Arthur C. Clarke', 'George R.R. Martin', 'Jodi Picoult', 'J.K. Rowling', 'Arthur Conan Doyle', 'Ken Follett', 'Michael Connelly', 'Ursula K. Le Guin', 'C.S. Lewis', 'Charles Dickens', 'Brandon Sanderson', 'J.R.R. Tolkien', 'Sidney Sheldon', 'Nora Roberts', 'Mark Twain', 'Dean Koontz', 'Douglas Adams', 'Jim Butcher', 'Kristin Hannah', 'Karin Slaughter', 'Colleen Hoover', 'Suzanne Collins', 'James A. Michener', 'Orson Scott Card', 'Zoe Saadia', 'Stephenie Meyer', 'Margaret Atwood', 'Margaret Peterson Haddix', 'Oscar Wilde', 'Douglas Preston', 'Louise Penny', 'Kurt Vonnegut Jr.', 'Tess Gerritsen', 'Charlaine Harris', 'J.R. Ward', 'Tamora Pierce', 'John Steinbeck', 'Jennifer L. Armentrout', 'Dan Brown', 'Anne Rice', 'Sherri Hayes', 'Diana Gabaldon', 'Ian McEwan', 'Neal Stephenson', 'Andrzej Sapkowski', 'Paul Auster', 'Jo Nesbø', 'Misba', 'V.C. Andrews', 'Laura Ingalls Wilder', 'L.M. Montgomery', 'Philip K. Dick', 'Erich Maria Remarque', 'J.G. Ballard', 'Jane Austen', 'Chelsea Luna', 'P.D. James', 'Paulo Coelho', 'Marissa Meyer', 'Robert A. Heinlein', 'Shel Silverstein', 'Beverly Cleary', 'H.P. Lovecraft', 'Jules Verne', 'Francine Rivers', 'Tom Robbins', 'Ray Bradbury', 'Bret Easton Ellis', 'Ammar Habib', 'Robert Dugoni', 'Michael G. Kramer', 'Lois McMaster Bujold', 'Robin Hobb', 'Barbara Kingsolver', 'John Irving', 'Harlan Coben', 'Janet E. Morris', 'Emlyn Chand', 'Ernest Hemingway', 'Leigh Bardugo', 'Patrick Ness', 'John Green', \"Madeleine L'Engle\", 'Holly Black', 'Stanisław Lem', 'Bertolt Brecht', 'Rudyard Kipling', 'William Faulkner', 'Denis Johnson', 'Shannon Hale', 'Scott Westerfeld', 'David Mitchell', 'Karen Marie Moning', 'Henrik Ibsen', 'Octavia E. Butler', 'Iain M. Banks', 'Christopher Paolini', 'Isabel Allende', 'Anna Gallegos', 'John le Carré', 'Thomas Pynchon', 'Enid Blyton', 'Marie Lu', 'J.D. Robb', 'Euripides', 'Philippa Gregory', 'Raymond Chandler', 'Jorge Luis Borges', 'J.J. Sorel', 'Fredrik Backman', 'Jojo Moyes', 'P.C. Cast', 'Hubert Selby Jr.', 'Kyle Keyes', 'Clive Barker', 'Rupert Thomson', 'Liane Moriarty', 'Raymond E. Feist', 'Douglas Coupland', 'Guy Gavriel Kay', 'Edgar Rice Burroughs', 'Dan Simmons', 'Maggie Stiefvater', 'Joe Hill', 'Kathy Reichs', 'Avery Aster', 'Jean M. Auel', 'Graham Greene', 'Kathleen Baldwin', 'José Saramago', 'Veronica Roth', 'Cormac McCarthy', 'Jack London', 'Patricia Cornwell', 'Laurie Halse Anderson', 'Kristen Ashley', 'Robert Louis Stevenson', 'Margaret Weis', 'T.S. Eliot', 'W. Somerset Maugham', 'Sarah Dessen', 'Kelley Armstrong', 'Italo Calvino', 'Kiera Cass', 'L.E.  Parker', 'Blake Crouch', 'Rainbow Rowell', 'Amy Harmon', 'Naguib Mahfouz', 'Derek Landy', 'William Gibson', 'E.M. Forster', 'Dorothy L. Sayers', 'James Dashner', 'Lois Lowry', 'Bernard Cornwell', 'H.G. Wells', 'Colson Whitehead', 'Pat Conroy', 'Janet Evanovich', 'G.K. Chesterton', 'Andy Weir', 'Steve Berry', 'Kenneth Jarrett Singleton', 'V.E. Schwab', 'Mitch Albom', 'Richard Bachman', 'A.A. Milne', 'Lauren Kate', 'Terry Goodkind', 'Ian Rankin', 'Alan Bradley', 'Ellen Hopkins', 'Molière', 'Martin Amis', 'Lauren Oliver', 'Philip Roth', 'Dennis Cooper', 'Ryū Murakami', 'Jeffrey Archer', 'Libba Bray', 'F. Scott Fitzgerald', 'Sophie Kinsella', 'Daniel Silva', 'Connie Willis', 'E. Nesbit', 'Daphne du Maurier', 'John Scalzi', 'Frank Herbert', 'Gabriel García Márquez', 'Robert Ludlum', 'Stieg Larsson', 'Neal Shusterman', 'Robert   Harris', 'Kazuo Ishiguro', 'Louis Sachar', 'Sophocles', 'Ki Longfellow', 'Judy Blume', 'Bill Watterson', 'Cornelia Funke', 'Pseudonymous Bosch', 'Tad Williams', 'Michael  West', 'Victor Hugo', 'Anthony Doerr', 'Sarah  Robinson', 'Judith McNaught', 'Patricia Briggs', 'Ian Fleming', 'Kami Garcia', 'Carlos Ruiz Zafón', 'Hans Christian Andersen', 'Ted Dekker', 'James Clavell', 'Manda Scott', 'Anton Chekhov', 'Becca Fitzpatrick', 'Leon Uris', 'Cecelia Ahern', 'Jenny Han', 'Ayn Rand', 'Jhumpa Lahiri', 'Nelson DeMille', 'Megan Abbott', 'Jeffery Deaver', 'Pierce Brown', 'Henry James', 'Jeanette Winterson', 'Melina Marchetta', 'Kate DiCamillo', 'E.L. James', 'Ahlam Mosteghanemi', 'Larry Niven', 'Alyson Noel', 'William S. Burroughs', 'Robert Galbraith', 'Amish Tripathi', 'Vera Jane Cook', 'Evelyn Waugh', 'Gillian Flynn', 'Trenton Lee Stewart', 'Cinda Williams Chima', 'Lee Matthew Goldberg', 'Emma Donoghue', 'Lewis Carroll', 'Nick Hornby', 'Laini Taylor', 'Dennis Lehane', 'James S.A. Corey', 'Lloyd Alexander', 'Brandon Mull', 'Shari Lapena', 'Melinda Leigh', 'Philip Pullman', 'R.L. Stine', 'Émile Zola', 'Khaled Hosseini', 'J.K. Franko', 'Marilynne Robinson', 'Toni Morrison', 'Eoin Colfer', 'Matthew Reilly', 'Jostein Gaarder', 'Alexandre Dumas', 'Orhan Pamuk', 'E.B. White', 'Samuel R. Delany', 'Linda Howard', 'Jerry Spinelli', 'Michael Chabon', 'Chimamanda Ngozi Adichie', 'L.C. Conn', 'Russell Hoban', 'Louisa May Alcott', 'Matt Haig', 'Sheri S. Tepper', 'Herman Wouk', 'Diana Wynne Jones', 'Frederick Forsyth', 'Julie Garwood', 'Ron Millicent', 'George Eliot', 'George Bernard Shaw', 'Soman Chainani', 'Thomas  Harris', 'Walt Disney Company', 'Misty Mount', 'Mark M. Bello', 'Sharlyn G. Branson', 'Kate Morton', 'John Fowles', 'Angela  Scott', 'Mary Renault', 'Ruth Ware', 'Milan Kundera', 'David Eddings', 'Frank E. Peretti', 'Megan Whalen Turner', 'J.D. Salinger', 'Alison Croggon', 'Shirley Jackson', 'Max Lucado', 'Behcet Kaya', 'Salman Rushdie', 'Mario Puzo', 'Tove Jansson', 'Amy Tan', 'Rhys Bowen', 'P.G. Wodehouse', 'Cristiane Serruya', 'Deborah Harkness', 'Pablo Neruda', 'Elly Griffiths', 'Wendy Mass', 'Henning Mankell', 'Vernor Vinge', 'Carl Hiaasen', \"Flannery O'Connor\", 'Julie Kagawa', 'Amanda Hocking', 'Don DeLillo', 'Emily Giffin', 'Geraldine Brooks', 'Heath Sommer', 'Val McDermid', 'Jaye L. Knight', 'Margaret Laurence', 'John Zunski', 'Alice Munro', 'John  Williams', 'John Wyndham', 'Victoria Aveyard', 'Vince Flynn', 'C.J. Sansom', 'Kim Iverson Headlee', 'Lisa Lutz', 'Meg Cabot', 'Linda Masemore Pirrung', 'Rabindranath Tagore', 'R.A. Salvatore', 'S.G. Blaise', 'Minette Walters', 'Ariana Franklin', 'Elizabeth Peters', 'Luis Sepúlveda', 'Jeff Kinney', 'C.S.  Johnson', 'Aporva Kala', 'Rachel Caine', 'Jeff Lindsay', 'Jeff W. Horton', 'Anthony Horowitz', 'John Marsden', 'Taylor Jenkins Reid', 'Michael Morpurgo', 'Beth Revis', 'Nadine Brandes', 'Amie Kaufman', 'Ira Levin', 'Alice Hoffman', 'Anne McCaffrey', 'Tony Kushner', 'Cynthia Hand', 'Christopher Marlowe', 'Mark D.  Campbell', 'Brent Weeks', 'Riley Sager', 'R.R. Virdi', 'Georgette Heyer', 'Ashwin Sanghi', 'Roger Zelazny', 'Henryk Sienkiewicz', 'Richard Bach', 'Tana French', 'Conn Iggulden', 'Mervyn Peake', 'Tom Winton', 'Kimberly Brubaker Bradley', 'Cece Whittaker', 'Kim Stanley Robinson', 'Irving Stone', 'James M. Cain', 'T.M. Mendes', 'Cassidy Storm', 'Jeff VanderMeer', 'Taylor Caldwell', 'Marge Piercy', 'Jennifer Donnelly', 'Kevin Kwan', 'Renée Ahdieh', 'Hugh Howey', 'Chetan Bhagat', 'Robin McKinley', 'Jonathan Stroud', 'Mario Vargas Llosa', 'Kent Haruf', 'Michelle Moran', 'Juliet Marillier', 'Lisa Kleypas', 'Lindsay Anne Kendal', 'Michel Faber', 'John Updike', 'Aeschylus', 'Lisa Gardner', 'Susan Ee', 'Alexei Maxim Russell', 'Paul Scott', 'N.K. Jemisin', 'Amor Towles', 'Mercedes Lackey', 'Louise Erdrich', 'Raymond Carver', 'James Baldwin', 'Sarah Waters', 'Melissa de la Cruz', 'Kendra Elliot', 'Kate Atkinson', 'Karen Ann Hopkins', 'Gene Wolfe', 'Sharon M. Draper', 'Evonne Blanchard', 'Amitav Ghosh', 'Chriselda Barretto', 'Julie Berry', 'Chris Colfer', 'Kerstin Gier', 'Celeste Ng', \"Flann O'Brien\", 'Rachel Hawkins', 'Meagan Brothers', 'J.M. Coetzee', 'Colleen Houck', 'K.D. Edwards', 'Ally Carter', 'Sharon Kay Penman', 'Renee Lee Fisher', 'Gore Vidal', 'James Ellroy', 'Roberta Kagan', 'Mark Helprin', 'Jonathan Swift', 'Richard Matheson', 'Stephen Douglass', 'Henry Miller', 'Margaret Wise Brown', 'Alan Moore', 'Garth Nix', 'Nathaniel Hawthorne', 'Madeline Miller', 'D.H. Lawrence', 'Nikos Kazantzakis', 'Bryce Courtenay', 'Sebastian Faulks', 'Sue Monk Kidd', 'Marion Zimmer Bradley', 'Johann Wolfgang von Goethe', 'Alice Walker', 'Dashiell Hammett', 'Lisa See', 'Anthony Burgess', 'Christopher Moore', 'Tennessee Williams', 'Ally Condie', 'Willa Cather', 'Erich Segal', 'Astrid Lindgren', 'Arthur  Miller', 'Truman Capote', 'Sergio Cobo', 'Joseph Conrad', 'Carson McCullers', 'Richard  Adams', 'O. Henry', 'Wally Lamb', 'Donna Tartt', 'Samuel Beckett', 'Jack Kerouac', 'Helen Fielding', 'Max Brooks', 'Beatrix Potter', 'Kristin Cashore', 'Elizabeth Gaskell', 'Angie Thomas', 'Paullina Simons', 'Larry McMurtry', 'Ransom Riggs', 'Chaim Potok', 'Aldous Huxley', 'Iain Banks', 'Frances Hodgson Burnett', 'Ernest Cline', 'Gail Carson Levine', 'Jay Asher', 'Patrick Rothfuss', 'Pittacus Lore', 'Edith Wharton', 'Dave Eggers', 'Mary Doria Russell', 'Sherman Alexie', 'Thomas Hardy', 'Aleksandr Solzhenitsyn', 'Karen Cushman', 'M.L. Rio', 'Linda Castillo', 'Arundhati Roy', 'M.T. Anderson', 'Richard Russo', 'Richard Sprout', 'Katherine Arden', 'Tracy Chevalier', 'Charles Palliser', 'Richard Peck', 'T.H. White', 'Melissa Marr', 'Norah Lofts', 'David Mamet', 'Craig Clevenger', 'Joe Abercrombie', 'August Wilson', 'Catherine Fisher', 'Elizabeth von Arnim', 'Siri Mitchell', 'Peter Shaffer', 'Linda Sue Park', 'Mary Ann Shaffer', 'Kate Chopin', 'T.J. Klune', 'Nataša Pantović', 'Meša Selimović', 'Nafisa Haji', 'R.D. Ronald', 'Cynthia Lord', 'Oliver Goldsmith', 'Travis Luedke', 'Robert Kirkman', 'Gabrielle Zevin', 'Caryl Churchill', 'Hunter S. Thompson', 'Emily  Williams', 'Arthur Nersesian', 'Robert Thier', 'Claire North', 'George Saunders', 'Paolo Bacigalupi', 'Gary Paulsen', 'Jennifer A. Nielsen', 'R.J. Palacio', 'Howard Fast', 'Alexander McCall Smith', 'Rohinton Mistry', 'Garth Stein', 'Michelle Hodkin', 'Chevy Stevens', 'Rachel Joyce', 'Pierre Boulle', 'Nnedi Okorafor', 'Emily Dickinson', 'عباس معروفی', 'E.L. Konigsburg', 'Joyce Carol Oates', 'Michael Ondaatje', 'M.M. Kaye', 'Roddy Doyle', 'Jean Craighead George', 'David James Duncan', 'Éric-Emmanuel Schmitt', 'Jean-Paul Sartre', 'Liz  Cowan', 'Christian Warren Freed', 'Amin Maalouf', 'Seth Grahame-Smith', 'J.P. Delaney', 'Jennifer Weiner', 'Sylvia Day', 'Elizabeth George Speare', 'Jon Scieszka', 'Alan Duff', 'Yaa Gyasi', 'Ann Patchett', 'Lynsay Sands', 'Karen M. McManus', 'Tom Sharpe', 'Sylvain Reynard', 'Brian Selznick', 'Anthony Trollope', 'Ted Chiang', 'William Makepeace Thackeray', 'Naomi Novik', 'Marguerite Henry', 'Dodie Smith', 'Nicola Yoon', 'Nicholas Evans', 'Elizabeth Kostova', 'Mark Z. Danielewski', 'Lauren Klever', 'Paula Hawkins', 'M.S. Matassa', 'David Lagercrantz', 'Sue Townsend', 'Boris Vian', 'Liv Constantine', 'Raina Telgemeier', 'Becky Albertalli', 'Gillian Dance', 'Elizabeth Moon', 'Tricia Copeland', 'Harold Bloom', \"Patrick O'Brian\", 'Vasily Grossman', 'Sienna Mercer', 'Susanna Kearsley', 'Thomas Wolfe', 'Shandi Boyes', 'China Miéville', 'Sue Grafton', 'Rose Tremain', 'L.R.W. Lee', 'Sara Shepard', 'Robertson Davies', 'Jill Mansell', 'Hans Fallada', 'Rachel Renée Russell', 'Thornton Wilder', 'Johnathon Nicolaou', 'Tanya Thompson', 'Nevil Shute', 'Michel Houellebecq', 'TyCobbsTeeth', 'Kerrelyn Sparks', 'Maeve Binchy', 'Lee  Smith', 'أشرف العشماوي', 'Widad Akreyi', 'Edward Albee', 'John Flanagan', 'James Faro', 'Christopher Paul Curtis', 'Shannon Messenger', 'Charles Frazier', 'Eça de Queirós', 'Robert McLiam Wilson', 'Charlotte Perkins Gilman', 'Violet Samuels', 'Lynn Austin', 'J.B. Priestley', 'Becky  Chambers', 'Mo Hayder', 'Suzanne Fisher Staples', 'Simone St. James', 'Lily Mayne', 'Doris Lessing', 'Harry F. MacDonald', 'William  Kennedy', 'Johanna Lindsey', 'Shalini Boland', 'Rosemary Sutcliff', 'Jon J. Muth', 'Lucinda Berry', 'Yukio Mishima', 'Alan Lightman', 'Elizabeth Lowell', 'Amber Kalkes', 'Mark  Miller', 'Cherie Priest', 'Leo Tolstoy', 'Veronica Rossi', 'Rob Thomas', 'Alfred Bester', 'Homer', 'William Goldman', 'Heather  Renee', 'Kevin Henkes', 'Pearl S. Buck', 'Herman Melville', 'Kate Douglas Wiggin', 'Kira Adams', 'Jami Brumfield', 'Vladimir Nabokov', 'Julie Bailes', 'Courtney Summers', 'R.F. Kuang', 'Brian K. Vaughan', 'Peter  Swanson', 'Elizabeth Scott', 'Alastair Reynolds', 'Audrey Niffenegger', 'Maurice Sendak', 'André Brink', 'Clifford D. Simak', 'Saki', 'Mindy McGinnis', 'E.O. Odiase', 'Wendell Berry', 'Jess Walter', 'Charlotte Brontë', 'Kim Harrison', 'Markus Zusak', 'M. Robinson', 'Julianne Donaldson', 'Otfried Preußler', 'George Orwell', 'David Brin', 'Michael Moorcock', 'Peter F. Hamilton', 'William Kent Krueger', 'Jon Klassen', 'Jenny Nimmo', 'Mary E. Pearson', 'Maureen Johnson', 'William Golding', 'Marlon James', 'Greg Iles', 'Wilbur Smith', 'T.D. McMichael', 'Teresa Driscoll', 'Helen Dunmore', 'S.E. Hinton', 'Sherrilyn Kenyon', 'Kenneth Oppel', 'Lucy Foley', 'Jerzy Kosiński', 'Saul Bellow', 'C.S. Forester', 'Machado de Assis', 'Jeff Smith', 'Amber Argyle', 'William Wharton', 'John Hersey', 'A.B. McKinley', 'Clare Mackintosh', 'Wilson Rawls', 'Amber Green', 'Ernesto Sábato', 'Greer Hendricks', 'Alessandro Baricco', 'Herman Koch', 'Pam Muñoz Ryan', 'Mira Grant', 'Christina Moss', 'Walt Whitman', 'Jeffrey Eugenides', 'Mark  Lawrence', 'Don Freeman', 'Piers Anthony', 'Heather Gudenkauf', 'Gene Stratton-Porter', 'Robert Bryndza', 'Ann Leckie', 'Michael Buckley', 'Alistair MacLean', 'Barbara Vine', 'Amelia James', 'Alexandra Bracken', 'Alison Goodman', 'Hlovate', 'Laura Gallego García', 'Mo Willems', 'Daniel Suarez', 'Jonathan Safran Foer', 'Aprilynne Pike', 'Iain Pears', 'Robert Cormier', 'Bernard Malamud', 'Sam Shepard', 'Michael Ende', 'Julia Donaldson', 'Rick Yancey', 'Nancy Temple Rodrigue', 'Sophie Jordan', 'Farah Cook', 'Irwin Shaw', 'Jaclyn Moriarty', 'Peter Straub', 'Chinua Achebe', 'Cathy Cassidy', 'E.E. Cummings', 'Iris Murdoch', 'Khushwant Singh', 'Eric Jerome Dickey', 'Lisa McMann', 'Mikhail Bulgakov', 'A.D.T. McLellan', 'John Boyne', 'Melinda De Ross', 'Ginny Rorby', 'Alan Bennett', 'Umberto Eco', 'Walter Mosley', 'Joanie Bruce', 'Richard K. Morgan', 'Milly Taiden', 'Andrew R.  Williams', 'Katherine Paterson', 'Robert Munsch', 'L. Frank Baum', 'Riel Nason', 'Granthana Sinha', 'D.M. Thomas', 'Anita Diamant', 'Susan Cooper', 'James R. Hannibal', 'Robert Merle', 'A.J. Finn', 'Ludwig Bemelmans', 'Arnold Lobel', 'İhsan Oktay Anar', 'Tarryn Fisher', 'Maria V. Snyder', 'Väinö Linna', 'Brian Herbert', 'Simone Elkeles', 'Arturo Pérez-Reverte', 'Richard Flanagan', 'Laurie R. King', 'Amélie Nothomb', 'Sandra       Brown', 'Jussi Adler-Olsen', 'Scott Heim', 'Harper Lee', 'Sharon Creech', 'Joanne Harris', 'Eric Carle', 'Andrew Clements', 'Marisha Pessl', 'Graeme Simsion', 'Max Nowaz', 'Pramoedya Ananta Toer', 'Jennifer Niven', 'Tim Winton', 'Brian Jacques', 'Jean Rhys', 'T. Rafael Cimino', 'Lloyd C. Douglas', 'Tama Janowitz', 'E.L. Doctorow', 'Elizabeth Wein', 'Joe Haldeman', 'Julian Barnes', 'Ruta Sepetys', 'Fred Misurella', 'Roberto Bolaño', 'David Levithan', 'Natsuo Kirino', 'Patricia Highsmith', 'Günter Grass', 'James Frey', 'Chris Van Allsburg', 'Lauren Weisberger', 'Emem Uko', 'Virginia Woolf', 'Barry Eisler', 'Gabriel F.W. Koch', 'Sarah Addison Allen', 'Pat Barker', 'Mimi Jean Pamfiloff', 'Theodore Dreiser', 'Sharon Carter', 'O.L. Ramos', 'Gail Honeyman', 'Richard Yates', 'Christopher  Shields', 'Heather   Morris', 'René Goscinny', 'Walter Moers', 'Karen Glista', 'Paul Cude', 'William Peter Blatty', 'Carol Shields', 'Jandy Nelson', 'Angela Carter', 'Elif Shafak', 'Zadie Smith', 'Thomas Mann', 'Allen Ginsberg', 'Lev Grossman', 'Edward Rutherfurd', 'Gary Edward Gedall', 'Marjorie Kinnan Rawlings', 'Olivia Hardy Ray', 'Robert Graves', 'Ann Brashares', 'Kenneth   Thomas', 'Anaïs Nin', 'Jason Latshaw', 'Alex Garland', 'Diane L. Kowalyshyn', 'Aravind Adiga', 'Nick Cave', 'Elizabeth Strout', 'Ned Vizzini', 'Miquel Reina', 'C. Toni Graham', 'Jane Smiley', 'Anita Shreve', \"John O'Riley\", 'B.A. Paris', 'Hilary Mantel', 'Vincent Panettiere', 'Simon W. Clark', 'Brett Axel', 'Mary  Stewart', 'Andrea Luhman', 'Barry Kirwan', 'Susan  Rowland', 'David Ebershoff', 'Gayle Forman', 'Robert McCammon', 'Malcolm McCoard', 'Tom Wolfe', 'Jonathan Franzen', 'Mika Waltari', 'Jerome K. Jerome', 'Jim Thompson', 'Jonas Jonasson', 'Wilkie Collins', 'Paul Gallico', 'John Fante', 'Louis de Bernières', 'Tom Stoppard', 'John Jakes', 'Sergei Lukyanenko', 'Friedrich Dürrenmatt', 'Eleanor H. Porter', \"Eugene O'Neill\", 'P.D. Eastman', 'Wallace Stegner', 'Virginia Lee Burton']\n"
     ]
    }
   ],
   "source": [
    "# Create a list of authors that have written more than one book in the dataset\n",
    "authors = rawdatadf['Author'].value_counts()\n",
    "authors = authors[authors > 1].index.tolist()\n",
    "print(authors)"
   ]
  },
  {
   "cell_type": "code",
   "execution_count": 132,
   "metadata": {},
   "outputs": [
    {
     "name": "stdout",
     "output_type": "stream",
     "text": [
      "                                                Book  \\\n",
      "0                              To Kill a Mockingbird   \n",
      "1  Harry Potter and the Philosopher’s Stone (Harr...   \n",
      "2                                Pride and Prejudice   \n",
      "4                                               1984   \n",
      "5                                   The Great Gatsby   \n",
      "\n",
      "                                         Description               Author  \\\n",
      "0  The unforgettable novel of a childhood in a sl...           Harper Lee   \n",
      "1  Harry Potter thinks he is an ordinary boy - un...         J.K. Rowling   \n",
      "2  Since its immediate success in 1813, Pride and...          Jane Austen   \n",
      "4  The new novel by George Orwell is the major wo...        George Orwell   \n",
      "5  Alternate Cover Edition ISBN: 0743273567 (ISBN...  F. Scott Fitzgerald   \n",
      "\n",
      "   Fantasy  Adult  Romance  Young Adult  Historical  Historical Fiction  \\\n",
      "0        0      1        0            1           1                   1   \n",
      "1        1      1        0            1           0                   0   \n",
      "2        0      0        1            0           1                   1   \n",
      "4        0      0        0            0           0                   0   \n",
      "5        0      0        1            0           1                   1   \n",
      "\n",
      "   Mystery  ...  Suspense  Horror  Paranormal  Magic  Science Fiction Fantasy  \\\n",
      "0        0  ...         0       0           0      0                        0   \n",
      "1        0  ...         0       0           0      1                        0   \n",
      "2        0  ...         0       0           0      0                        0   \n",
      "4        0  ...         0       0           0      0                        0   \n",
      "5        0  ...         0       0           0      0                        0   \n",
      "\n",
      "   Humor  Middle Grade  Literary Fiction  Drama  American  \n",
      "0      0             0                 0      0         0  \n",
      "1      0             1                 0      0         0  \n",
      "2      0             0                 0      0         0  \n",
      "4      0             0                 0      0         0  \n",
      "5      0             0                 0      0         0  \n",
      "\n",
      "[5 rows x 28 columns]\n",
      "(3856, 28)\n"
     ]
    }
   ],
   "source": [
    "# Filter the data to only include authors that have written more than one book\n",
    "filtereddf = rawdatadf[rawdatadf['Author'].isin(authors)]\n",
    "\n",
    "# Print the first few rows of the filtered dataframe\n",
    "print(filtereddf.head())\n",
    "\n",
    "# Print the shape of the filtered dataframe\n",
    "print(filtereddf.shape)"
   ]
  },
  {
   "cell_type": "code",
   "execution_count": 133,
   "metadata": {},
   "outputs": [
    {
     "name": "stdout",
     "output_type": "stream",
     "text": [
      "Mansfield Park\n"
     ]
    }
   ],
   "source": [
    "# A function to recommend a book by the same author\n",
    "def get_similar_author_book(title, rawdatadf):\n",
    "    # Get the author of the book\n",
    "    author = rawdatadf[rawdatadf['Book'] == title]['Author'].values[0]\n",
    "    # Get all the books by the author\n",
    "    books = rawdatadf[rawdatadf['Author'] == author]['Book'].values\n",
    "    # Remove the requested book from the list\n",
    "    books = np.delete(books, np.where(books == title))\n",
    "    # If there are no other books by the author, return None\n",
    "    if len(books) == 0:\n",
    "        return None\n",
    "    # Randomly select a book from the list and return it\n",
    "    choice = np.random.choice(books)\n",
    "    return choice\n",
    "\n",
    "# Test the function\n",
    "print(get_similar_author_book(\"Pride and Prejudice\", rawdatadf))"
   ]
  },
  {
   "cell_type": "code",
   "execution_count": 134,
   "metadata": {},
   "outputs": [],
   "source": [
    "# Now, a function to recommend a dissimilar book\n",
    "def get_dissimilar_book(title, rawdatadf):\n",
    "    # Get the author of the book\n",
    "    author = rawdatadf[rawdatadf['Book'] == title]['Author'].values[0]\n",
    "    # Get the genres of the book\n",
    "    genres = rawdatadf[rawdatadf['Book'] == title].drop(columns=['Author','Book', 'Description'])\n",
    "    #print(author)\n",
    "    #print(genres)\n",
    "    # Get all books written by other authors\n",
    "    books = rawdatadf[rawdatadf['Author'] != author]['Book']\n",
    "    #print(books.shape)\n",
    "    # Filter out books that have genres in common with the requested book\n",
    "    for genre in genres.columns:\n",
    "        # If the genre is present in the book, filter it out\n",
    "        if genres[genre].values[0] == 1:\n",
    "            books = books[rawdatadf[genre] == 0]\n",
    "    #print(books.shape)\n",
    "    # Randomly select one of the remaining books and return it\n",
    "    choice = np.random.choice(books)\n",
    "    return choice"
   ]
  },
  {
   "cell_type": "code",
   "execution_count": 135,
   "metadata": {},
   "outputs": [
    {
     "name": "stdout",
     "output_type": "stream",
     "text": [
      "Eeny Meeny (Helen Grace, #1)\n"
     ]
    }
   ],
   "source": [
    "# Test the function\n",
    "print(get_dissimilar_book(\"Pride and Prejudice\", rawdatadf))"
   ]
  },
  {
   "cell_type": "code",
   "execution_count": 136,
   "metadata": {},
   "outputs": [
    {
     "name": "stdout",
     "output_type": "stream",
     "text": [
      "                                                   Book  \\\n",
      "0                                 To Kill a Mockingbird   \n",
      "1     Harry Potter and the Philosopher’s Stone (Harr...   \n",
      "2                                   Pride and Prejudice   \n",
      "3                                                  1984   \n",
      "4                                      The Great Gatsby   \n",
      "...                                                 ...   \n",
      "3810                                  Wolf Among Wolves   \n",
      "3811                                         Play Dirty   \n",
      "3812             The Rise of Nine (Lorien Legacies, #3)   \n",
      "3813                                       Rats Saw God   \n",
      "3814         The Evolution of Mara Dyer (Mara Dyer, #2)   \n",
      "\n",
      "                                                Similar  \\\n",
      "0                                     Go Set a Watchman   \n",
      "1     Harry Potter and the Order of the Phoenix (Har...   \n",
      "2                                 Sense and Sensibility   \n",
      "3                                    Animal Farm / 1984   \n",
      "4                   The Curious Case of Benjamin Button   \n",
      "...                                                 ...   \n",
      "3810                               Every Man Dies Alone   \n",
      "3811                                       Chill Factor   \n",
      "3812             The Power of Six (Lorien Legacies, #2)   \n",
      "3813   The Thousand-Dollar Tan Line (Veronica Mars, #1)   \n",
      "3814        The Unbecoming of Mara Dyer (Mara Dyer, #1)   \n",
      "\n",
      "                                             Dissimilar  \n",
      "0                 The Complete Poems of Emily Dickinson  \n",
      "1                                           Strip Tease  \n",
      "2     Homeland (Forgotten Realms: The Dark Elf Trilo...  \n",
      "3                                      Everything Flows  \n",
      "4                              Ojo por ojo (Talion, #1)  \n",
      "...                                                 ...  \n",
      "3810   Simple Genius (Sean King & Michelle Maxwell, #3)  \n",
      "3811                      Emily of New Moon (Emily, #1)  \n",
      "3812                      Chronicle of a Death Foretold  \n",
      "3813                                     The Club Dumas  \n",
      "3814                                     The Brothers K  \n",
      "\n",
      "[3815 rows x 3 columns]\n"
     ]
    }
   ],
   "source": [
    "# Create an empty list to store the recommendations\n",
    "recommendations = []\n",
    "\n",
    "# Iterate over the books in the filtered dataframe\n",
    "for book in filtereddf['Book'].values:\n",
    "    # Get a similar book\n",
    "    similar = get_similar_author_book(book, filtereddf)\n",
    "    # Get a dissimilar book\n",
    "    dissimilar = get_dissimilar_book(book, filtereddf)\n",
    "    # If either the similar or dissimilar book is None, skip this book\n",
    "    if similar is None or dissimilar is None:\n",
    "        continue\n",
    "    # Add the books to the list\n",
    "    recommendations.append({'Book': book, 'Similar': similar, 'Dissimilar': dissimilar})\n",
    "\n",
    "# Convert the list to a DataFrame\n",
    "recommendations_titles = pd.DataFrame(recommendations)\n",
    "\n",
    "# Print the recommendations\n",
    "print(recommendations_titles)"
   ]
  },
  {
   "cell_type": "code",
   "execution_count": 137,
   "metadata": {},
   "outputs": [
    {
     "name": "stdout",
     "output_type": "stream",
     "text": [
      "Since its immediate success in 1813, Pride and Prejudice has remained one of the most popular novels in the English language. Jane Austen called this brilliant work \"her own darling child\" and its vivacious heroine, Elizabeth Bennet, \"as delightful a creature as ever appeared in print.\" The romantic clash between the opinionated Elizabeth and her proud beau, Mr. Darcy, is a splendid performance of civilized sparring. And Jane Austen's radiant wit sparkles as her characters dance a delicate quadrille of flirtation and intrigue, making this book the most superb comedy of manners of Regency England.Alternate cover edition of ISBN 9780679783268\n"
     ]
    }
   ],
   "source": [
    "# Function to get a book description from the title\n",
    "def get_book_description(title, rawdatadf):\n",
    "    return rawdatadf[rawdatadf['Book'] == title]['Description'].values[0]\n",
    "\n",
    "# Test the function\n",
    "print(get_book_description(\"Pride and Prejudice\", rawdatadf))"
   ]
  },
  {
   "cell_type": "code",
   "execution_count": 138,
   "metadata": {},
   "outputs": [
    {
     "name": "stdout",
     "output_type": "stream",
     "text": [
      "                                                   Book  \\\n",
      "0                                 To Kill a Mockingbird   \n",
      "1     Harry Potter and the Philosopher’s Stone (Harr...   \n",
      "2                                   Pride and Prejudice   \n",
      "3                                                  1984   \n",
      "4                                      The Great Gatsby   \n",
      "...                                                 ...   \n",
      "3810                                  Wolf Among Wolves   \n",
      "3811                                         Play Dirty   \n",
      "3812             The Rise of Nine (Lorien Legacies, #3)   \n",
      "3813                                       Rats Saw God   \n",
      "3814         The Evolution of Mara Dyer (Mara Dyer, #2)   \n",
      "\n",
      "                                                Similar  \\\n",
      "0                                     Go Set a Watchman   \n",
      "1     Harry Potter and the Order of the Phoenix (Har...   \n",
      "2                                 Sense and Sensibility   \n",
      "3                                    Animal Farm / 1984   \n",
      "4                   The Curious Case of Benjamin Button   \n",
      "...                                                 ...   \n",
      "3810                               Every Man Dies Alone   \n",
      "3811                                       Chill Factor   \n",
      "3812             The Power of Six (Lorien Legacies, #2)   \n",
      "3813   The Thousand-Dollar Tan Line (Veronica Mars, #1)   \n",
      "3814        The Unbecoming of Mara Dyer (Mara Dyer, #1)   \n",
      "\n",
      "                                             Dissimilar  \\\n",
      "0                 The Complete Poems of Emily Dickinson   \n",
      "1                                           Strip Tease   \n",
      "2     Homeland (Forgotten Realms: The Dark Elf Trilo...   \n",
      "3                                      Everything Flows   \n",
      "4                              Ojo por ojo (Talion, #1)   \n",
      "...                                                 ...   \n",
      "3810   Simple Genius (Sean King & Michelle Maxwell, #3)   \n",
      "3811                      Emily of New Moon (Emily, #1)   \n",
      "3812                      Chronicle of a Death Foretold   \n",
      "3813                                     The Club Dumas   \n",
      "3814                                     The Brothers K   \n",
      "\n",
      "                                       Book Description  \\\n",
      "0     The unforgettable novel of a childhood in a sl...   \n",
      "1     Harry Potter thinks he is an ordinary boy - un...   \n",
      "2     Since its immediate success in 1813, Pride and...   \n",
      "3     The new novel by George Orwell is the major wo...   \n",
      "4     Alternate Cover Edition ISBN: 0743273567 (ISBN...   \n",
      "...                                                 ...   \n",
      "3810  Hailed as “ Fallada’s best book” ( The New Yor...   \n",
      "3811   #1 New York Times bestselling author Sandra B...   \n",
      "3812  The Rise of Nine is the next thrilling instalm...   \n",
      "3813  For Steve York, life was good. He had a 4.0 GP...   \n",
      "3814  Mara Dyer knows she isn't crazy. She knows tha...   \n",
      "\n",
      "                                    Similar Description  \\\n",
      "0     From Harper Lee comes a landmark new novel set...   \n",
      "1     'You are sharing the Dark Lord's thoughts and ...   \n",
      "2     Alternate cover edition of ISBN 9780141439662'...   \n",
      "3     This edition features George Orwell’s best-kno...   \n",
      "4     Today, F. Scott Fitzgerald is known for his no...   \n",
      "...                                                 ...   \n",
      "3810  Inspired by a true story, Hans Fallada's Alone...   \n",
      "3811  \\nLibrarian’s note: This is a previously-publi...   \n",
      "3812  I've seen him on the news. Followed the storie...   \n",
      "3813  From Rob Thomas, the creator of groundbreaking...   \n",
      "3814  Mara Dyer believes life can't get any stranger...   \n",
      "\n",
      "                                 Dissimilar Description  \n",
      "0     THE ONLY ONE-VOLUME EDITION CONTAINING ALL 1,7...  \n",
      "1     No matter what you heard or thought about the ...  \n",
      "2     Drow ranger Drizzt Do'Urden, first introduced ...  \n",
      "3     'Everything Flows is as important a novel as a...  \n",
      "4     \\n\"NUEVO TWIST EN EXTRAÑOS EN UN TREN\" - THE S...  \n",
      "...                                                 ...  \n",
      "3810  In a world of secrets, human genius is power. ...  \n",
      "3811  Emily Starr never knew what it was to be lonel...  \n",
      "3812  A man returns to the town where a baffling mur...  \n",
      "3813  Lucas Corso is a book detective, a middle-aged...  \n",
      "3814  Duncan took almost 10 years to follow up the p...  \n",
      "\n",
      "[3815 rows x 6 columns]\n",
      "(3815, 6)\n"
     ]
    }
   ],
   "source": [
    "# Convert the recommendation_titles dataframe to a dataframe with descriptions\n",
    "recommendations_desc = recommendations_titles.copy()\n",
    "recommendations_desc['Book Description'] = recommendations_desc['Book'].apply(lambda x: get_book_description(x, rawdatadf))\n",
    "recommendations_desc['Similar Description'] = recommendations_desc['Similar'].apply(lambda x: get_book_description(x, rawdatadf))\n",
    "recommendations_desc['Dissimilar Description'] = recommendations_desc['Dissimilar'].apply(lambda x: get_book_description(x, rawdatadf))\n",
    "\n",
    "# Print the recommendations with descriptions\n",
    "print(recommendations_desc)\n",
    "print(recommendations_desc.shape)\n",
    "\n",
    "# Write the recommendations to a CSV file\n",
    "recommendations_desc.to_csv('Datasets\\goodreads_recommendations.csv', index=False)"
   ]
  }
 ],
 "metadata": {
  "kernelspec": {
   "display_name": "base",
   "language": "python",
   "name": "python3"
  },
  "language_info": {
   "codemirror_mode": {
    "name": "ipython",
    "version": 3
   },
   "file_extension": ".py",
   "mimetype": "text/x-python",
   "name": "python",
   "nbconvert_exporter": "python",
   "pygments_lexer": "ipython3",
   "version": "3.10.14"
  }
 },
 "nbformat": 4,
 "nbformat_minor": 2
}
