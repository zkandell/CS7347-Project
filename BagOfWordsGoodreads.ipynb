{
 "cells": [
  {
   "cell_type": "code",
   "execution_count": null,
   "metadata": {},
   "outputs": [],
   "source": [
    "# CountVectorizer for converting text data into a matrix of token counts\n",
    "from sklearn.feature_extraction.text import CountVectorizer\n",
    "\n",
    "# Pandas for working with dataframes (including the one already created by the data processing notebook)\n",
    "import pandas as pd\n",
    "# Numpy for working with arrays\n",
    "import numpy as np"
   ]
  },
  {
   "cell_type": "code",
   "execution_count": 2,
   "metadata": {},
   "outputs": [
    {
     "name": "stdout",
     "output_type": "stream",
     "text": [
      "                                                Book  \\\n",
      "0                              To Kill a Mockingbird   \n",
      "1  Harry Potter and the Philosopher’s Stone (Harr...   \n",
      "2                                Pride and Prejudice   \n",
      "3                                  The Little Prince   \n",
      "4                                               1984   \n",
      "\n",
      "                                         Description  \\\n",
      "0  The unforgettable novel of a childhood in a sl...   \n",
      "1  Harry Potter thinks he is an ordinary boy - un...   \n",
      "2  Since its immediate success in 1813, Pride and...   \n",
      "3  A pilot stranded in the desert awakes one morn...   \n",
      "4  The new novel by George Orwell is the major wo...   \n",
      "\n",
      "                     Author  Fantasy  Adult  Romance  Young Adult  Historical  \\\n",
      "0                Harper Lee        0      1        0            1           1   \n",
      "1              J.K. Rowling        1      1        0            1           0   \n",
      "2               Jane Austen        0      0        1            0           1   \n",
      "3  Antoine de Saint-Exupéry        1      1        0            1           0   \n",
      "4             George Orwell        0      0        0            0           0   \n",
      "\n",
      "   Historical Fiction  Mystery  ...  Suspense  Horror  Paranormal  Magic  \\\n",
      "0                   1        0  ...         0       0           0      0   \n",
      "1                   0        0  ...         0       0           0      1   \n",
      "2                   1        0  ...         0       0           0      0   \n",
      "3                   0        0  ...         0       0           0      0   \n",
      "4                   0        0  ...         0       0           0      0   \n",
      "\n",
      "   Science Fiction Fantasy  Humor  Middle Grade  Literary Fiction  Drama  \\\n",
      "0                        0      0             0                 0      0   \n",
      "1                        0      0             1                 0      0   \n",
      "2                        0      0             0                 0      0   \n",
      "3                        0      0             0                 0      0   \n",
      "4                        0      0             0                 0      0   \n",
      "\n",
      "   American  \n",
      "0         0  \n",
      "1         0  \n",
      "2         0  \n",
      "3         0  \n",
      "4         0  \n",
      "\n",
      "[5 rows x 28 columns]\n",
      "(6079, 28)\n"
     ]
    }
   ],
   "source": [
    "# Load the data\n",
    "data = pd.read_csv('Datasets/goodreads_data_onehot_genres.csv')\n",
    "\n",
    "# Print the first few rows of the data\n",
    "print(data.head())\n",
    "# Print the shape of the data\n",
    "print(data.shape)"
   ]
  },
  {
   "cell_type": "code",
   "execution_count": 3,
   "metadata": {},
   "outputs": [
    {
     "name": "stdout",
     "output_type": "stream",
     "text": [
      "                                                Book  \\\n",
      "0                              To Kill a Mockingbird   \n",
      "1  Harry Potter and the Philosopher’s Stone (Harr...   \n",
      "2                                Pride and Prejudice   \n",
      "3                                  The Little Prince   \n",
      "4                                               1984   \n",
      "\n",
      "                                         Description                    Author  \n",
      "0  The unforgettable novel of a childhood in a sl...                Harper Lee  \n",
      "1  Harry Potter thinks he is an ordinary boy - un...              J.K. Rowling  \n",
      "2  Since its immediate success in 1813, Pride and...               Jane Austen  \n",
      "3  A pilot stranded in the desert awakes one morn...  Antoine de Saint-Exupéry  \n",
      "4  The new novel by George Orwell is the major wo...             George Orwell  \n"
     ]
    }
   ],
   "source": [
    "# Drop the genre columns (only the first three columns are needed)\n",
    "reduced_data = data[:].drop(data.columns[3:], axis=1)\n",
    "print(reduced_data.head())"
   ]
  },
  {
   "cell_type": "code",
   "execution_count": 4,
   "metadata": {},
   "outputs": [
    {
     "name": "stdout",
     "output_type": "stream",
     "text": [
      "(6079, 49471)\n",
      "  (0, 41245)\t4\n",
      "  (0, 43177)\t1\n",
      "  (0, 28713)\t1\n",
      "  (0, 29069)\t4\n",
      "  (0, 7705)\t1\n",
      "  (0, 20647)\t4\n",
      "  (0, 37984)\t1\n",
      "  (0, 38557)\t1\n",
      "  (0, 41970)\t1\n",
      "  (0, 2299)\t9\n",
      "  (0, 9908)\t1\n",
      "  (0, 9048)\t1\n",
      "  (0, 41239)\t1\n",
      "  (0, 35265)\t1\n",
      "  (0, 21762)\t4\n",
      "  (0, 41706)\t6\n",
      "  (0, 22914)\t2\n",
      "  (0, 26986)\t2\n",
      "  (0, 4466)\t1\n",
      "  (0, 5697)\t1\n",
      "  (0, 2245)\t2\n",
      "  (0, 21214)\t1\n",
      "  (0, 4867)\t1\n",
      "  (0, 9926)\t1\n",
      "  (0, 39795)\t1\n",
      "  :\t:\n",
      "  (6078, 41462)\t1\n",
      "  (6078, 27433)\t1\n",
      "  (6078, 18872)\t1\n",
      "  (6078, 39840)\t1\n",
      "  (6078, 40284)\t1\n",
      "  (6078, 41862)\t1\n",
      "  (6078, 9579)\t1\n",
      "  (6078, 2903)\t1\n",
      "  (6078, 12548)\t1\n",
      "  (6078, 8207)\t1\n",
      "  (6078, 44715)\t1\n",
      "  (6078, 31057)\t1\n",
      "  (6078, 36851)\t1\n",
      "  (6078, 6698)\t1\n",
      "  (6078, 34426)\t1\n",
      "  (6078, 27123)\t1\n",
      "  (6078, 40268)\t1\n",
      "  (6078, 38097)\t1\n",
      "  (6078, 12527)\t1\n",
      "  (6078, 42568)\t2\n",
      "  (6078, 5623)\t1\n",
      "  (6078, 45539)\t1\n",
      "  (6078, 1353)\t2\n",
      "  (6078, 39186)\t1\n",
      "  (6078, 15124)\t1\n"
     ]
    }
   ],
   "source": [
    "# Create a CountVectorizer object to convert the text data into a matrix of token counts\n",
    "vectorizer = CountVectorizer()\n",
    "\n",
    "# Convert the text data into a matrix of token counts\n",
    "X = vectorizer.fit_transform(reduced_data['Description'])\n",
    "\n",
    "# Print the shape of the matrix\n",
    "print(X.shape)\n",
    "\n",
    "print(X)"
   ]
  },
  {
   "cell_type": "code",
   "execution_count": 5,
   "metadata": {},
   "outputs": [
    {
     "name": "stdout",
     "output_type": "stream",
     "text": [
      "(6079, 49471)\n",
      "[[0. 0. 0. ... 0. 0. 0.]\n",
      " [0. 0. 0. ... 0. 0. 0.]\n",
      " [0. 0. 0. ... 0. 0. 0.]\n",
      " ...\n",
      " [0. 0. 0. ... 0. 0. 0.]\n",
      " [0. 0. 0. ... 0. 0. 0.]\n",
      " [0. 0. 0. ... 0. 0. 0.]]\n"
     ]
    },
    {
     "name": "stderr",
     "output_type": "stream",
     "text": [
      "/opt/anaconda3/lib/python3.8/site-packages/scipy/sparse/base.py:595: RuntimeWarning: invalid value encountered in true_divide\n",
      "  return np.true_divide(self.todense(), other)\n"
     ]
    }
   ],
   "source": [
    "# Create a normalized version of the matrix by dividing each count by the total number of counts for that row\n",
    "X_norm = X / X.sum(axis=1)\n",
    "\n",
    "# Print the shape of the normalized matrix\n",
    "print(X_norm.shape)\n",
    "\n",
    "print(X_norm)"
   ]
  },
  {
   "cell_type": "code",
   "execution_count": 18,
   "metadata": {},
   "outputs": [],
   "source": [
    "# Function that measures the cosine similarity between two vectors\n",
    "def cosine_similarity(v1, v2):\n",
    "    return np.dot(v1, v2.T) / (np.linalg.norm(v1) * np.linalg.norm(v2))"
   ]
  },
  {
   "cell_type": "code",
   "execution_count": 7,
   "metadata": {},
   "outputs": [],
   "source": [
    "# Relative similarity of one book compared to two others\n",
    "# Takes three book vectors, calculates the cosine similarity between the first and the other two\n",
    "# Returns the ratio of the two similarities\n",
    "# If the first book is more similar to the second book, the result will be greater than 1\n",
    "# If the first book is more similar to the third book, the result will be less than 1\n",
    "def relative_similarity(v1, v2, v3):\n",
    "    sim1 = cosine_similarity(v1, v2)\n",
    "    sim2 = cosine_similarity(v1, v3)\n",
    "    return sim1 / sim2"
   ]
  },
  {
   "cell_type": "code",
   "execution_count": 8,
   "metadata": {},
   "outputs": [
    {
     "name": "stdout",
     "output_type": "stream",
     "text": [
      "                                                Book  \\\n",
      "0                              To Kill a Mockingbird   \n",
      "1  Harry Potter and the Philosopher’s Stone (Harr...   \n",
      "2                                Pride and Prejudice   \n",
      "3                                               1984   \n",
      "4                                   The Great Gatsby   \n",
      "\n",
      "                                             Similar  \\\n",
      "0                                  Go Set a Watchman   \n",
      "1  Harry Potter and the Order of the Phoenix (Har...   \n",
      "2                              Sense and Sensibility   \n",
      "3                                 Animal Farm / 1984   \n",
      "4                The Curious Case of Benjamin Button   \n",
      "\n",
      "                                          Dissimilar  \\\n",
      "0              The Complete Poems of Emily Dickinson   \n",
      "1                                        Strip Tease   \n",
      "2  Homeland (Forgotten Realms: The Dark Elf Trilo...   \n",
      "3                                   Everything Flows   \n",
      "4                           Ojo por ojo (Talion, #1)   \n",
      "\n",
      "                                    Book Description  \\\n",
      "0  The unforgettable novel of a childhood in a sl...   \n",
      "1  Harry Potter thinks he is an ordinary boy - un...   \n",
      "2  Since its immediate success in 1813, Pride and...   \n",
      "3  The new novel by George Orwell is the major wo...   \n",
      "4  Alternate Cover Edition ISBN: 0743273567 (ISBN...   \n",
      "\n",
      "                                 Similar Description  \\\n",
      "0  From Harper Lee comes a landmark new novel set...   \n",
      "1  'You are sharing the Dark Lord's thoughts and ...   \n",
      "2  Alternate cover edition of ISBN 9780141439662'...   \n",
      "3  This edition features George Orwell’s best-kno...   \n",
      "4  Today, F. Scott Fitzgerald is known for his no...   \n",
      "\n",
      "                              Dissimilar Description  \n",
      "0  THE ONLY ONE-VOLUME EDITION CONTAINING ALL 1,7...  \n",
      "1  No matter what you heard or thought about the ...  \n",
      "2  Drow ranger Drizzt Do'Urden, first introduced ...  \n",
      "3  'Everything Flows is as important a novel as a...  \n",
      "4  \\n\"NUEVO TWIST EN EXTRAÑOS EN UN TREN\" - THE S...  \n"
     ]
    }
   ],
   "source": [
    "# Load the recommendation dataset\n",
    "recommendations = pd.read_csv('Datasets/goodreads_recommendations.csv')\n",
    "\n",
    "# Print the first few rows of the recommendations\n",
    "print(recommendations.head())"
   ]
  },
  {
   "cell_type": "code",
   "execution_count": 9,
   "metadata": {},
   "outputs": [],
   "source": [
    "# Get the book descriptions from the recommendations\n",
    "descriptions = recommendations['Book Description']\n",
    "similardescriptions = recommendations['Similar Description']\n",
    "dissimilardescriptions = recommendations['Dissimilar Description']\n",
    "\n",
    "# Get the first set of book descriptions\n",
    "book1 = descriptions[0]\n",
    "book2 = similardescriptions[0]\n",
    "book3 = dissimilardescriptions[0]"
   ]
  },
  {
   "cell_type": "code",
   "execution_count": 10,
   "metadata": {},
   "outputs": [
    {
     "name": "stdout",
     "output_type": "stream",
     "text": [
      "The unforgettable novel of a childhood in a sleepy Southern town and the crisis of conscience that rocked it. \"To Kill A Mockingbird\" became both an instant bestseller and a critical success when it was first published in 1960. It went on to win the Pulitzer Prize in 1961 and was later made into an Academy Award-winning film, also a classic.Compassionate, dramatic, and deeply moving, \"To Kill A Mockingbird\" takes readers to the roots of human behavior - to innocence and experience, kindness and cruelty, love and hatred, humor and pathos. Now with over 18 million copies in print and translated into forty languages, this regional story by a young Alabama woman claims universal appeal. Harper Lee always considered her book to be a simple love story. Today it is regarded as a masterpiece of American literature.\n",
      "From Harper Lee comes a landmark new novel set two decades after her beloved Pulitzer Prize-winning masterpiece, To Kill a Mockingbird. Maycomb, Alabama. Twenty-six-year-old Jean Louise Finch—\"Scout\"—returns home from New York City to visit her aging father, Atticus. Set against the backdrop of the civil rights tensions and political turmoil that were transforming the South, Jean Louise's homecoming turns bittersweet when she learns disturbing truths about her close-knit family, the town and the people dearest to her. Memories from her childhood flood back, and her values and assumptions are thrown into doubt. Featuring many of the iconic characters from To Kill a Mockingbird, Go Set a Watchman perfectly captures a young woman, and a world, in a painful yet necessary transition out of the illusions of the past—a journey that can be guided only by one's conscience. Written in the mid-1950s, Go Set a Watchman imparts a fuller, richer understanding and appreciation of Harper Lee. Here is an unforgettable novel of wisdom, humanity, passion, humor and effortless precision—a profoundly affecting work of art that is both wonderfully evocative of another era and relevant to our own times. It not only confirms the enduring brilliance of To Kill a Mockingbird, but also serves as its essential companion, adding depth, context and new meaning to an American classic.\n",
      "THE ONLY ONE-VOLUME EDITION CONTAINING ALL 1,775 OF EMILY DICKINSON’S POEMSOnly eleven of Emily Dickinson’s poems were published prior to her death in 1886; the startling originality of her work doomed it to obscurity in her lifetime. Early posthumously published collections-some of them featuring liberally “edited” versions of the poems-did not fully and accurately represent Dickinson’s bold experiments in prosody, her tragic vision, and the range of her intellectual and emotional explorations. Not until the 1955 publication of The Complete Poems of Emily Dickinson, a three-volume critical edition compiled by Thomas H. Johnson, were readers able for the first time to assess, understand, and appreciate the whole of Dickinson’s extraordinary poetic genius.This book, a distillation of the three-volume Complete Poems, brings together the original texts of all 1,775 poems that Emily Dickinson wrote.\n"
     ]
    }
   ],
   "source": [
    "print(book1)\n",
    "print(book2)\n",
    "print(book3)"
   ]
  },
  {
   "cell_type": "code",
   "execution_count": 19,
   "metadata": {},
   "outputs": [
    {
     "name": "stdout",
     "output_type": "stream",
     "text": [
      "[[1.4041236]]\n"
     ]
    }
   ],
   "source": [
    "# Convert the book descriptions into a matrix of token counts\n",
    "X1 = vectorizer.transform([book1])\n",
    "X2 = vectorizer.transform([book2])\n",
    "X3 = vectorizer.transform([book3])\n",
    "\n",
    "# Normalize the matrices\n",
    "X1_norm = X1 / X1.sum(axis=1)\n",
    "X2_norm = X2 / X2.sum(axis=1)\n",
    "X3_norm = X3 / X3.sum(axis=1)\n",
    "\n",
    "# Calculate the relative similarity of the first book compared to the other two\n",
    "print(relative_similarity(X1_norm, X2_norm, X3_norm))"
   ]
  },
  {
   "cell_type": "code",
   "execution_count": 21,
   "metadata": {},
   "outputs": [
    {
     "name": "stderr",
     "output_type": "stream",
     "text": [
      "<ipython-input-7-7a8bb142cd2c>:9: RuntimeWarning: divide by zero encountered in true_divide\n",
      "  return sim1 / sim2\n",
      "<ipython-input-7-7a8bb142cd2c>:9: RuntimeWarning: invalid value encountered in true_divide\n",
      "  return sim1 / sim2\n"
     ]
    },
    {
     "ename": "ZeroDivisionError",
     "evalue": "division by zero",
     "output_type": "error",
     "traceback": [
      "\u001b[0;31m---------------------------------------------------------------------------\u001b[0m",
      "\u001b[0;31mZeroDivisionError\u001b[0m                         Traceback (most recent call last)",
      "\u001b[0;32m<ipython-input-21-5cea3272fced>\u001b[0m in \u001b[0;36m<module>\u001b[0;34m\u001b[0m\n\u001b[1;32m     41\u001b[0m \u001b[0;31m# Calculate the accuracy, precision, recall, and F1 score of the recommendations\u001b[0m\u001b[0;34m\u001b[0m\u001b[0;34m\u001b[0m\u001b[0;34m\u001b[0m\u001b[0m\n\u001b[1;32m     42\u001b[0m \u001b[0macc\u001b[0m \u001b[0;34m=\u001b[0m \u001b[0maccuracy\u001b[0m\u001b[0;34m(\u001b[0m\u001b[0mrecommendations\u001b[0m\u001b[0;34m[\u001b[0m\u001b[0;34m'Score'\u001b[0m\u001b[0;34m]\u001b[0m\u001b[0;34m,\u001b[0m \u001b[0;34m[\u001b[0m\u001b[0;36m1\u001b[0m\u001b[0;34m]\u001b[0m \u001b[0;34m*\u001b[0m \u001b[0mlen\u001b[0m\u001b[0;34m(\u001b[0m\u001b[0mrecommendations\u001b[0m\u001b[0;34m)\u001b[0m\u001b[0;34m)\u001b[0m\u001b[0;34m\u001b[0m\u001b[0;34m\u001b[0m\u001b[0m\n\u001b[0;32m---> 43\u001b[0;31m \u001b[0mprec\u001b[0m \u001b[0;34m=\u001b[0m \u001b[0mprecision\u001b[0m\u001b[0;34m(\u001b[0m\u001b[0mrecommendations\u001b[0m\u001b[0;34m[\u001b[0m\u001b[0;34m'Score'\u001b[0m\u001b[0;34m]\u001b[0m\u001b[0;34m,\u001b[0m \u001b[0;34m[\u001b[0m\u001b[0;36m1\u001b[0m\u001b[0;34m]\u001b[0m \u001b[0;34m*\u001b[0m \u001b[0mlen\u001b[0m\u001b[0;34m(\u001b[0m\u001b[0mrecommendations\u001b[0m\u001b[0;34m)\u001b[0m\u001b[0;34m)\u001b[0m\u001b[0;34m\u001b[0m\u001b[0;34m\u001b[0m\u001b[0m\n\u001b[0m\u001b[1;32m     44\u001b[0m \u001b[0mrec\u001b[0m \u001b[0;34m=\u001b[0m \u001b[0mrecall\u001b[0m\u001b[0;34m(\u001b[0m\u001b[0mrecommendations\u001b[0m\u001b[0;34m[\u001b[0m\u001b[0;34m'Score'\u001b[0m\u001b[0;34m]\u001b[0m\u001b[0;34m,\u001b[0m \u001b[0;34m[\u001b[0m\u001b[0;36m1\u001b[0m\u001b[0;34m]\u001b[0m \u001b[0;34m*\u001b[0m \u001b[0mlen\u001b[0m\u001b[0;34m(\u001b[0m\u001b[0mrecommendations\u001b[0m\u001b[0;34m)\u001b[0m\u001b[0;34m)\u001b[0m\u001b[0;34m\u001b[0m\u001b[0;34m\u001b[0m\u001b[0m\n\u001b[1;32m     45\u001b[0m \u001b[0mf1\u001b[0m \u001b[0;34m=\u001b[0m \u001b[0mf1_score\u001b[0m\u001b[0;34m(\u001b[0m\u001b[0mrecommendations\u001b[0m\u001b[0;34m[\u001b[0m\u001b[0;34m'Score'\u001b[0m\u001b[0;34m]\u001b[0m\u001b[0;34m,\u001b[0m \u001b[0;34m[\u001b[0m\u001b[0;36m1\u001b[0m\u001b[0;34m]\u001b[0m \u001b[0;34m*\u001b[0m \u001b[0mlen\u001b[0m\u001b[0;34m(\u001b[0m\u001b[0mrecommendations\u001b[0m\u001b[0;34m)\u001b[0m\u001b[0;34m)\u001b[0m\u001b[0;34m\u001b[0m\u001b[0;34m\u001b[0m\u001b[0m\n",
      "\u001b[0;32m<ipython-input-21-5cea3272fced>\u001b[0m in \u001b[0;36mprecision\u001b[0;34m(predictions, actual)\u001b[0m\n\u001b[1;32m     25\u001b[0m     \u001b[0mtrue_positives\u001b[0m \u001b[0;34m=\u001b[0m \u001b[0msum\u001b[0m\u001b[0;34m(\u001b[0m\u001b[0;34m(\u001b[0m\u001b[0mpredictions\u001b[0m \u001b[0;34m==\u001b[0m \u001b[0;36m1\u001b[0m\u001b[0;34m)\u001b[0m \u001b[0;34m&\u001b[0m \u001b[0;34m(\u001b[0m\u001b[0mactual\u001b[0m \u001b[0;34m==\u001b[0m \u001b[0;36m1\u001b[0m\u001b[0;34m)\u001b[0m\u001b[0;34m)\u001b[0m\u001b[0;34m\u001b[0m\u001b[0;34m\u001b[0m\u001b[0m\n\u001b[1;32m     26\u001b[0m     \u001b[0mfalse_positives\u001b[0m \u001b[0;34m=\u001b[0m \u001b[0msum\u001b[0m\u001b[0;34m(\u001b[0m\u001b[0;34m(\u001b[0m\u001b[0mpredictions\u001b[0m \u001b[0;34m==\u001b[0m \u001b[0;36m1\u001b[0m\u001b[0;34m)\u001b[0m \u001b[0;34m&\u001b[0m \u001b[0;34m(\u001b[0m\u001b[0mactual\u001b[0m \u001b[0;34m==\u001b[0m \u001b[0;36m0\u001b[0m\u001b[0;34m)\u001b[0m\u001b[0;34m)\u001b[0m\u001b[0;34m\u001b[0m\u001b[0;34m\u001b[0m\u001b[0m\n\u001b[0;32m---> 27\u001b[0;31m     \u001b[0;32mreturn\u001b[0m \u001b[0mtrue_positives\u001b[0m \u001b[0;34m/\u001b[0m \u001b[0;34m(\u001b[0m\u001b[0mtrue_positives\u001b[0m \u001b[0;34m+\u001b[0m \u001b[0mfalse_positives\u001b[0m\u001b[0;34m)\u001b[0m\u001b[0;34m\u001b[0m\u001b[0;34m\u001b[0m\u001b[0m\n\u001b[0m\u001b[1;32m     28\u001b[0m \u001b[0;34m\u001b[0m\u001b[0m\n\u001b[1;32m     29\u001b[0m \u001b[0;31m# Function to calculate the recall of the recommendations\u001b[0m\u001b[0;34m\u001b[0m\u001b[0;34m\u001b[0m\u001b[0;34m\u001b[0m\u001b[0m\n",
      "\u001b[0;31mZeroDivisionError\u001b[0m: division by zero"
     ]
    }
   ],
   "source": [
    "# Convert all book descriptions into a matrix of token counts\n",
    "X_descriptions = vectorizer.transform(descriptions)\n",
    "X_similardescriptions = vectorizer.transform(similardescriptions)\n",
    "X_dissimilardescriptions = vectorizer.transform(dissimilardescriptions)\n",
    "\n",
    "# Normalize the matrices\n",
    "X_descriptions_norm = X_descriptions / X_descriptions.sum(axis=1)\n",
    "X_similardescriptions_norm = X_similardescriptions / X_similardescriptions.sum(axis=1)\n",
    "X_dissimilardescriptions_norm = X_dissimilardescriptions / X_dissimilardescriptions.sum(axis=1)\n",
    "\n",
    "# Calculate the relative similarities of all books compared to the other two\n",
    "similarities = []\n",
    "for i in range(len(recommendations)):\n",
    "    similarities.append(relative_similarity(X_descriptions_norm[i], X_similardescriptions_norm[i], X_dissimilardescriptions_norm[i]))"
   ]
  },
  {
   "cell_type": "code",
   "execution_count": 24,
   "metadata": {},
   "outputs": [
    {
     "name": "stdout",
     "output_type": "stream",
     "text": [
      "0       1\n",
      "1       1\n",
      "2       1\n",
      "3       1\n",
      "4       1\n",
      "       ..\n",
      "3810    1\n",
      "3811    1\n",
      "3812    1\n",
      "3813    0\n",
      "3814    1\n",
      "Name: Score, Length: 3815, dtype: int64\n",
      "2596\n"
     ]
    }
   ],
   "source": [
    "\n",
    "# Score the recommendations based on the relative similarities - if the book is more similar to the similar book, it scores 1, otherwise it scores 0\n",
    "recommendations['Score'] = [1 if s > 1 else 0 for s in similarities]\n",
    "\n",
    "print(recommendations['Score'])\n",
    "print(recommendations['Score'].sum())"
   ]
  },
  {
   "cell_type": "code",
   "execution_count": 37,
   "metadata": {},
   "outputs": [
    {
     "name": "stdout",
     "output_type": "stream",
     "text": [
      "Accuracy: 0.6804718217562254\n",
      "Precision: 1.0\n",
      "Recall: 0.6804718217562254\n",
      "F1 Score: 0.80985805646545\n"
     ]
    }
   ],
   "source": [
    "\n",
    "# Function to calculate the accuracy of the recommendations\n",
    "def accuracy(predictions, actual):\n",
    "    return sum(predictions == actual) / len(actual)\n",
    "\n",
    "# Function to calculate the precision of the recommendations\n",
    "def precision(predictions, actual):\n",
    "    true_positives = sum(m == 1 and n == 1 for m, n in zip(predictions, actual))\n",
    "    false_positives = sum(m == 1 and n == 0 for m, n in zip(predictions, actual))\n",
    "    return true_positives / (true_positives + false_positives) if (true_positives + false_positives) > 0 else 0\n",
    "\n",
    "# Function to calculate the recall of the recommendations\n",
    "def recall(predictions, actual):\n",
    "    true_positives = sum(m == 1 and n == 1 for m, n in zip(predictions, actual))\n",
    "    false_negatives = sum(m == 0 and n == 1 for m, n in zip(predictions, actual))\n",
    "    return true_positives / (true_positives + false_negatives) if (true_positives + false_negatives) > 0 else 0\n",
    "\n",
    "# Function to calculate the F1 score of the recommendations\n",
    "def f1_score(predictions, actual):\n",
    "    prec = precision(predictions, actual)\n",
    "    rec = recall(predictions, actual)\n",
    "    return 2 * prec * rec / (prec + rec) if (prec + rec) > 0 else 0\n",
    "\n",
    "# Calculate the accuracy, precision, recall, and F1 score of the recommendations\n",
    "acc = accuracy(recommendations['Score'], [1] * len(recommendations))\n",
    "prec = precision(recommendations['Score'], [1] * len(recommendations))\n",
    "rec = recall(recommendations['Score'], [1] * len(recommendations))\n",
    "f1 = f1_score(recommendations['Score'], [1] * len(recommendations))\n",
    "\n",
    "# Print the results\n",
    "print('Accuracy:', acc)\n",
    "print('Precision:', prec)\n",
    "print('Recall:', rec)\n",
    "print('F1 Score:', f1)\n",
    "\n",
    "# Save the accuracy, precision, recall, and F1 score to a file\n",
    "with open('bagofwordsresults.txt', 'w') as f:\n",
    "    f.write('Accuracy: ' + str(acc) + '\\n')\n",
    "    f.write('Precision: ' + str(prec) + '\\n')\n",
    "    f.write('Recall: ' + str(rec) + '\\n')\n",
    "    f.write('F1 Score: ' + str(f1) + '\\n')"
   ]
  }
 ],
 "metadata": {
  "kernelspec": {
   "display_name": "base",
   "language": "python",
   "name": "python3"
  },
  "language_info": {
   "codemirror_mode": {
    "name": "ipython",
    "version": 3
   },
   "file_extension": ".py",
   "mimetype": "text/x-python",
   "name": "python",
   "nbconvert_exporter": "python",
   "pygments_lexer": "ipython3",
   "version": "3.10.14"
  }
 },
 "nbformat": 4,
 "nbformat_minor": 2
}
